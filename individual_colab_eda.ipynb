{
  "cells": [
    {
      "cell_type": "markdown",
      "metadata": {
        "id": "view-in-github",
        "colab_type": "text"
      },
      "source": [
        "<a href=\"https://colab.research.google.com/github/ak2003335/Capstone-Project/blob/main/individual_colab_eda.ipynb\" target=\"_parent\"><img src=\"https://colab.research.google.com/assets/colab-badge.svg\" alt=\"Open In Colab\"/></a>"
      ]
    },
    {
      "cell_type": "code",
      "execution_count": 64,
      "metadata": {
        "id": "EAkwqIeo86CU"
      },
      "outputs": [],
      "source": [
        "from google.colab import drive"
      ]
    },
    {
      "cell_type": "code",
      "execution_count": 65,
      "metadata": {
        "id": "DvmWPMNU8_FT",
        "colab": {
          "base_uri": "https://localhost:8080/"
        },
        "outputId": "1973f155-5162-4022-cbf3-9db5f8e104a1"
      },
      "outputs": [
        {
          "output_type": "stream",
          "name": "stdout",
          "text": [
            "Drive already mounted at /content/drive/; to attempt to forcibly remount, call drive.mount(\"/content/drive/\", force_remount=True).\n"
          ]
        }
      ],
      "source": [
        "drive.mount('/content/drive/')"
      ]
    },
    {
      "cell_type": "code",
      "execution_count": 66,
      "metadata": {
        "id": "I9hXrWCT9Dcw"
      },
      "outputs": [],
      "source": [
        "path='/content/drive/My Drive/Hotel Bookings.csv'"
      ]
    },
    {
      "cell_type": "code",
      "execution_count": 67,
      "metadata": {
        "id": "nWnbnN2a9D86"
      },
      "outputs": [],
      "source": [
        "import numpy as np\n",
        "import pandas as pd\n",
        "import matplotlib.pyplot as plt\n",
        "%matplotlib inline "
      ]
    },
    {
      "cell_type": "code",
      "execution_count": 68,
      "metadata": {
        "id": "axOwKltV9IIN"
      },
      "outputs": [],
      "source": [
        "data=pd.read_csv(path)"
      ]
    },
    {
      "cell_type": "code",
      "execution_count": 69,
      "metadata": {
        "id": "Vn4tCxqK9cXf",
        "colab": {
          "base_uri": "https://localhost:8080/"
        },
        "outputId": "8fe14ed5-2e6b-4da2-bcd2-5ea38edf1f8f"
      },
      "outputs": [
        {
          "output_type": "stream",
          "name": "stdout",
          "text": [
            "<class 'pandas.core.frame.DataFrame'>\n",
            "RangeIndex: 119390 entries, 0 to 119389\n",
            "Data columns (total 32 columns):\n",
            " #   Column                          Non-Null Count   Dtype  \n",
            "---  ------                          --------------   -----  \n",
            " 0   hotel                           119390 non-null  object \n",
            " 1   is_canceled                     119390 non-null  int64  \n",
            " 2   lead_time                       119390 non-null  int64  \n",
            " 3   arrival_date_year               119390 non-null  int64  \n",
            " 4   arrival_date_month              119390 non-null  object \n",
            " 5   arrival_date_week_number        119390 non-null  int64  \n",
            " 6   arrival_date_day_of_month       119390 non-null  int64  \n",
            " 7   stays_in_weekend_nights         119390 non-null  int64  \n",
            " 8   stays_in_week_nights            119390 non-null  int64  \n",
            " 9   adults                          119390 non-null  int64  \n",
            " 10  children                        119386 non-null  float64\n",
            " 11  babies                          119390 non-null  int64  \n",
            " 12  meal                            119390 non-null  object \n",
            " 13  country                         118902 non-null  object \n",
            " 14  market_segment                  119390 non-null  object \n",
            " 15  distribution_channel            119390 non-null  object \n",
            " 16  is_repeated_guest               119390 non-null  int64  \n",
            " 17  previous_cancellations          119390 non-null  int64  \n",
            " 18  previous_bookings_not_canceled  119390 non-null  int64  \n",
            " 19  reserved_room_type              119390 non-null  object \n",
            " 20  assigned_room_type              119390 non-null  object \n",
            " 21  booking_changes                 119390 non-null  int64  \n",
            " 22  deposit_type                    119390 non-null  object \n",
            " 23  agent                           103050 non-null  float64\n",
            " 24  company                         6797 non-null    float64\n",
            " 25  days_in_waiting_list            119390 non-null  int64  \n",
            " 26  customer_type                   119390 non-null  object \n",
            " 27  adr                             119390 non-null  float64\n",
            " 28  required_car_parking_spaces     119390 non-null  int64  \n",
            " 29  total_of_special_requests       119390 non-null  int64  \n",
            " 30  reservation_status              119390 non-null  object \n",
            " 31  reservation_status_date         119390 non-null  object \n",
            "dtypes: float64(4), int64(16), object(12)\n",
            "memory usage: 29.1+ MB\n"
          ]
        }
      ],
      "source": [
        "data.info()\n"
      ]
    },
    {
      "cell_type": "code",
      "execution_count": 70,
      "metadata": {
        "id": "TIGOK5MtklvV"
      },
      "outputs": [],
      "source": [
        "df=pd.DataFrame(data)"
      ]
    },
    {
      "cell_type": "code",
      "execution_count": 71,
      "metadata": {
        "id": "pvvqchXTrS4T",
        "colab": {
          "base_uri": "https://localhost:8080/"
        },
        "outputId": "282fde9b-64e3-436a-9c87-1b41c42dd83e"
      },
      "outputs": [
        {
          "output_type": "execute_result",
          "data": {
            "text/plain": [
              "0         0\n",
              "1         0\n",
              "2         0\n",
              "3         0\n",
              "4         0\n",
              "         ..\n",
              "119385    0\n",
              "119386    0\n",
              "119387    0\n",
              "119388    0\n",
              "119389    0\n",
              "Name: previous_cancellations, Length: 119390, dtype: int64"
            ]
          },
          "metadata": {},
          "execution_count": 71
        }
      ],
      "source": [
        "df['previous_cancellations']"
      ]
    },
    {
      "cell_type": "code",
      "execution_count": 72,
      "metadata": {
        "id": "56th_SHQ9eNm"
      },
      "outputs": [],
      "source": [
        "df=pd.DataFrame(data)"
      ]
    },
    {
      "cell_type": "markdown",
      "metadata": {
        "id": "kETMDjDb_y8J"
      },
      "source": [
        "hotel cancel vs not canceld"
      ]
    },
    {
      "cell_type": "code",
      "execution_count": 73,
      "metadata": {
        "id": "87t3tkWZC15p",
        "colab": {
          "base_uri": "https://localhost:8080/"
        },
        "outputId": "ef5d6208-52c7-44bc-b9ea-cfba186a42fa"
      },
      "outputs": [
        {
          "output_type": "stream",
          "name": "stdout",
          "text": [
            "<class 'pandas.core.frame.DataFrame'>\n",
            "RangeIndex: 119390 entries, 0 to 119389\n",
            "Data columns (total 32 columns):\n",
            " #   Column                          Non-Null Count   Dtype  \n",
            "---  ------                          --------------   -----  \n",
            " 0   hotel                           119390 non-null  object \n",
            " 1   is_canceled                     119390 non-null  int64  \n",
            " 2   lead_time                       119390 non-null  int64  \n",
            " 3   arrival_date_year               119390 non-null  int64  \n",
            " 4   arrival_date_month              119390 non-null  object \n",
            " 5   arrival_date_week_number        119390 non-null  int64  \n",
            " 6   arrival_date_day_of_month       119390 non-null  int64  \n",
            " 7   stays_in_weekend_nights         119390 non-null  int64  \n",
            " 8   stays_in_week_nights            119390 non-null  int64  \n",
            " 9   adults                          119390 non-null  int64  \n",
            " 10  children                        119386 non-null  float64\n",
            " 11  babies                          119390 non-null  int64  \n",
            " 12  meal                            119390 non-null  object \n",
            " 13  country                         118902 non-null  object \n",
            " 14  market_segment                  119390 non-null  object \n",
            " 15  distribution_channel            119390 non-null  object \n",
            " 16  is_repeated_guest               119390 non-null  int64  \n",
            " 17  previous_cancellations          119390 non-null  int64  \n",
            " 18  previous_bookings_not_canceled  119390 non-null  int64  \n",
            " 19  reserved_room_type              119390 non-null  object \n",
            " 20  assigned_room_type              119390 non-null  object \n",
            " 21  booking_changes                 119390 non-null  int64  \n",
            " 22  deposit_type                    119390 non-null  object \n",
            " 23  agent                           103050 non-null  float64\n",
            " 24  company                         6797 non-null    float64\n",
            " 25  days_in_waiting_list            119390 non-null  int64  \n",
            " 26  customer_type                   119390 non-null  object \n",
            " 27  adr                             119390 non-null  float64\n",
            " 28  required_car_parking_spaces     119390 non-null  int64  \n",
            " 29  total_of_special_requests       119390 non-null  int64  \n",
            " 30  reservation_status              119390 non-null  object \n",
            " 31  reservation_status_date         119390 non-null  object \n",
            "dtypes: float64(4), int64(16), object(12)\n",
            "memory usage: 29.1+ MB\n"
          ]
        }
      ],
      "source": [
        "df.info()"
      ]
    },
    {
      "cell_type": "code",
      "execution_count": 74,
      "metadata": {
        "id": "4BS8M46zABVE",
        "colab": {
          "base_uri": "https://localhost:8080/"
        },
        "outputId": "4271760a-9465-4f7d-a7aa-9bd754a1c0f0"
      },
      "outputs": [
        {
          "output_type": "execute_result",
          "data": {
            "text/plain": [
              "40060"
            ]
          },
          "metadata": {},
          "execution_count": 74
        }
      ],
      "source": [
        "df.loc[df['hotel']==\"Resort Hotel\"].hotel.count()"
      ]
    },
    {
      "cell_type": "code",
      "execution_count": 75,
      "metadata": {
        "id": "5XLNC3OlA6Xv",
        "colab": {
          "base_uri": "https://localhost:8080/"
        },
        "outputId": "76d1cbf8-0c4d-4ff5-ce0c-e749baa2043d"
      },
      "outputs": [
        {
          "output_type": "execute_result",
          "data": {
            "text/plain": [
              "79330"
            ]
          },
          "metadata": {},
          "execution_count": 75
        }
      ],
      "source": [
        "df.loc[df['hotel']==\"City Hotel\"].hotel.count()"
      ]
    },
    {
      "cell_type": "code",
      "execution_count": 76,
      "metadata": {
        "id": "O7W4QzmJBq-m",
        "colab": {
          "base_uri": "https://localhost:8080/"
        },
        "outputId": "fad12be4-5947-4e9b-8d54-3bd5b41fac72"
      },
      "outputs": [
        {
          "output_type": "execute_result",
          "data": {
            "text/plain": [
              "119390"
            ]
          },
          "metadata": {},
          "execution_count": 76
        }
      ],
      "source": [
        "40060+79330"
      ]
    },
    {
      "cell_type": "code",
      "execution_count": 77,
      "metadata": {
        "id": "zz3Ff5RaCfvL",
        "colab": {
          "base_uri": "https://localhost:8080/"
        },
        "outputId": "746d462f-8108-431b-9fcd-4c850a1fa776"
      },
      "outputs": [
        {
          "output_type": "execute_result",
          "data": {
            "text/plain": [
              "119390"
            ]
          },
          "metadata": {},
          "execution_count": 77
        }
      ],
      "source": [
        "df['hotel'].count()"
      ]
    },
    {
      "cell_type": "code",
      "execution_count": 77,
      "metadata": {
        "id": "dywvN_3F97ka"
      },
      "outputs": [],
      "source": []
    },
    {
      "cell_type": "markdown",
      "source": [
        "<h1>Canceled vs not canceled include Resort and City</h1>"
      ],
      "metadata": {
        "id": "GZrPJmdWXc7Y"
      }
    },
    {
      "cell_type": "code",
      "execution_count": 78,
      "metadata": {
        "id": "r4QSxeCryUGh"
      },
      "outputs": [],
      "source": [
        "iscan=df.loc[df['is_canceled']==1].is_canceled.count()"
      ]
    },
    {
      "cell_type": "code",
      "execution_count": 79,
      "metadata": {
        "id": "xv687vKuyfAK"
      },
      "outputs": [],
      "source": [
        "notcan=df.loc[df['is_canceled']==0].is_canceled.count()"
      ]
    },
    {
      "cell_type": "code",
      "execution_count": 80,
      "metadata": {
        "id": "4N0VqbFqz75o",
        "colab": {
          "base_uri": "https://localhost:8080/"
        },
        "outputId": "76851740-4d71-4de8-d92c-c028e6407f5a"
      },
      "outputs": [
        {
          "output_type": "stream",
          "name": "stdout",
          "text": [
            "Total no. of cancel hotel: 44224 \n",
            "Total no. of not cancel hotet: 75166\n"
          ]
        }
      ],
      "source": [
        "print('Total no. of cancel hotel:',iscan,'\\nTotal no. of not cancel hotet:',notcan)\n"
      ]
    },
    {
      "cell_type": "code",
      "execution_count": 81,
      "metadata": {
        "id": "4iinMmqczkpT"
      },
      "outputs": [],
      "source": [
        "c=np.array(['Cancel','NotCancel'])\n",
        "d=np.array([iscan,notcan])"
      ]
    },
    {
      "cell_type": "code",
      "execution_count": 82,
      "metadata": {
        "id": "VAbPWMK_1nWe",
        "colab": {
          "base_uri": "https://localhost:8080/",
          "height": 282
        },
        "outputId": "361bcece-ef7e-4c3d-8eb7-4fc61e63a834"
      },
      "outputs": [
        {
          "output_type": "execute_result",
          "data": {
            "text/plain": [
              "<BarContainer object of 2 artists>"
            ]
          },
          "metadata": {},
          "execution_count": 82
        },
        {
          "output_type": "display_data",
          "data": {
            "text/plain": [
              "<Figure size 432x288 with 1 Axes>"
            ],
            "image/png": "[encoded data removed]"
          },
          "metadata": {
            "needs_background": "light"
          }
        }
      ],
      "source": [
        "plt.bar(c,d,color=['red','green'],width=0.3)"
      ]
    },
    {
      "cell_type": "markdown",
      "source": [
        "<h1>City and Resort hotel cancelation</h1>"
      ],
      "metadata": {
        "id": "gUR7cYVoXoQ2"
      }
    },
    {
      "cell_type": "code",
      "execution_count": 83,
      "metadata": {
        "id": "IXDadpUgkvjm"
      },
      "outputs": [],
      "source": [
        "\n",
        "res=df[(df['is_canceled']==0)&(df['hotel']==\"Resort Hotel\")].is_canceled.count()\n",
        "cit=df[(df['is_canceled']==0)&(df['hotel']==\"City Hotel\")].is_canceled.count()\n",
        "\n",
        "arr_rc=np.array([res,cit])\n",
        "arr_label=np.array(['Resort','City'])"
      ]
    },
    {
      "cell_type": "code",
      "execution_count": 84,
      "metadata": {
        "id": "uRTM49DH46Z7",
        "colab": {
          "base_uri": "https://localhost:8080/",
          "height": 298
        },
        "outputId": "ca61a68e-9633-4c05-ee38-82517128a4b9"
      },
      "outputs": [
        {
          "output_type": "execute_result",
          "data": {
            "text/plain": [
              "Text(0.5, 1.0, 'Hotel Cancellation')"
            ]
          },
          "metadata": {},
          "execution_count": 84
        },
        {
          "output_type": "display_data",
          "data": {
            "text/plain": [
              "<Figure size 432x288 with 1 Axes>"
            ],
            "image/png": "[encoded data removed]"
          },
          "metadata": {
            "needs_background": "light"
          }
        }
      ],
      "source": [
        "plt.bar(arr_label,arr_rc,color=['red','green'])\n",
        "plt.grid()\n",
        "plt.ylabel(\"No of Cancellation\")\n",
        "plt.title(\"Hotel Cancellation\")"
      ]
    },
    {
      "cell_type": "code",
      "execution_count": 85,
      "metadata": {
        "id": "5Ez6vjNno9tq",
        "colab": {
          "base_uri": "https://localhost:8080/",
          "height": 352
        },
        "outputId": "0884e2f6-315b-4b3f-89f5-51b4b08dcc7a"
      },
      "outputs": [
        {
          "output_type": "execute_result",
          "data": {
            "text/plain": [
              "([<matplotlib.patches.Wedge at 0x7fd1dff90d90>,\n",
              "  <matplotlib.patches.Wedge at 0x7fd1dff9b4d0>],\n",
              " [Text(0.38886147309004254, 1.0289736414244257, 'Resort'),\n",
              "  Text(-0.3888614730900431, -1.0289736414244253, 'City')],\n",
              " [Text(0.2121062580491141, 0.5612583498678685, '38.50%'),\n",
              "  Text(-0.2121062580491144, -0.5612583498678683, '61.50%')])"
            ]
          },
          "metadata": {},
          "execution_count": 85
        },
        {
          "output_type": "display_data",
          "data": {
            "text/plain": [
              "<Figure size 432x288 with 1 Axes>"
            ],
            "image/png": "[encoded data removed]"
          },
          "metadata": {}
        }
      ],
      "source": [
        "plt.pie(arr_rc,autopct=\"%1.2f%%\",labels=['Resort','City'],colors=['red','green'])"
      ]
    },
    {
      "cell_type": "markdown",
      "source": [
        "<h1>Number of City and Resort Hotels</h1>"
      ],
      "metadata": {
        "id": "Kjgs5MS8YNFQ"
      }
    },
    {
      "cell_type": "code",
      "execution_count": 86,
      "metadata": {
        "colab": {
          "base_uri": "https://localhost:8080/"
        },
        "id": "Is4lhYF7-nWs",
        "outputId": "f7459508-ca11-4843-f7e4-7a9df4182254"
      },
      "outputs": [
        {
          "output_type": "stream",
          "name": "stdout",
          "text": [
            "40060 79330\n"
          ]
        }
      ],
      "source": [
        "\n",
        "resort=df.loc[df['hotel']==\"Resort Hotel\"].hotel.count()\n",
        "city=df.loc[df['hotel']==\"City Hotel\"].hotel.count()\n",
        "print(resort,city)\n"
      ]
    },
    {
      "cell_type": "code",
      "execution_count": 87,
      "metadata": {
        "colab": {
          "base_uri": "https://localhost:8080/",
          "height": 298
        },
        "id": "k_dwEBTK-5g9",
        "outputId": "d9dd4a4a-b966-4e9a-ec27-80d500c9c043"
      },
      "outputs": [
        {
          "output_type": "execute_result",
          "data": {
            "text/plain": [
              "<BarContainer object of 2 artists>"
            ]
          },
          "metadata": {},
          "execution_count": 87
        },
        {
          "output_type": "display_data",
          "data": {
            "text/plain": [
              "<Figure size 432x288 with 1 Axes>"
            ],
            "image/png": "[encoded data removed]"
          },
          "metadata": {
            "needs_background": "light"
          }
        }
      ],
      "source": [
        "resort_array=np.array(resort)\n",
        "city_array=np.array(city)\n",
        "name=np.array(['Resort','City'])\n",
        "arr_name=np.array([resort_array,city_array])\n",
        "plt.title(\"NO of City And Resort\")\n",
        "plt.ylabel(\"No. Of Booking\")\n",
        "plt.bar(name,arr_name)"
      ]
    },
    {
      "cell_type": "code",
      "execution_count": 87,
      "metadata": {
        "id": "PdpxMXSL_FsR"
      },
      "outputs": [],
      "source": []
    },
    {
      "cell_type": "markdown",
      "source": [
        "\n",
        "<h1>How many people  Reserve hotel in 2016</h1>"
      ],
      "metadata": {
        "id": "e6_6DXkwXI-k"
      }
    },
    {
      "cell_type": "code",
      "execution_count": 88,
      "metadata": {
        "id": "Pvbwz0CJBRrP"
      },
      "outputs": [],
      "source": [
        "month=[]\n",
        "month_values=[]\n",
        "for i in df[(df['arrival_date_year']==2016)].arrival_date_month.unique():\n",
        "  k=df.loc[(df['arrival_date_month']==i) & (df['is_canceled']==1)].arrival_date_month.count()\n",
        "  month.append(k)\n",
        "  month_values.append(k)\n",
        "arry_month=np.array(month)\n",
        "month_values\n",
        "total_can=np.array(month_values)\n"
      ]
    },
    {
      "cell_type": "code",
      "execution_count": 89,
      "metadata": {
        "colab": {
          "base_uri": "https://localhost:8080/",
          "height": 889
        },
        "id": "HNlktdO60Nyf",
        "outputId": "8f6a23f2-7583-4363-bc7e-2e7f22122d2f"
      },
      "outputs": [
        {
          "output_type": "execute_result",
          "data": {
            "text/plain": [
              "([<matplotlib.patches.Wedge at 0x7fd1dfec1990>,\n",
              "  <matplotlib.patches.Wedge at 0x7fd1dfecd090>,\n",
              "  <matplotlib.patches.Wedge at 0x7fd1dfecd150>,\n",
              "  <matplotlib.patches.Wedge at 0x7fd1dfed72d0>,\n",
              "  <matplotlib.patches.Wedge at 0x7fd1dfed7e10>,\n",
              "  <matplotlib.patches.Wedge at 0x7fd1dfe61790>,\n",
              "  <matplotlib.patches.Wedge at 0x7fd1dfe61490>,\n",
              "  <matplotlib.patches.Wedge at 0x7fd1dfe6d510>,\n",
              "  <matplotlib.patches.Wedge at 0x7fd1dfed7250>,\n",
              "  <matplotlib.patches.Wedge at 0x7fd1dfe61390>,\n",
              "  <matplotlib.patches.Wedge at 0x7fd1dfec1910>,\n",
              "  <matplotlib.patches.Wedge at 0x7fd1dfe86650>],\n",
              " [Text(1.090949632164126, 0.1408151273157761, 'July'),\n",
              "  Text(0.9913271625046136, 0.47672891340944656, 'August'),\n",
              "  Text(0.7147849543679635, 0.836111517089191, 'September'),\n",
              "  Text(0.1776942873010318, 1.085552734905393, 'October'),\n",
              "  Text(-0.5190187596227304, 0.9698554155953776, 'November'),\n",
              "  Text(-1.0021328777049519, 0.4535743548998249, 'December'),\n",
              "  Text(-1.0700214224820375, -0.2550571611022066, 'January'),\n",
              "  Text(-0.6460705560036403, -0.8902768314772362, 'February'),\n",
              "  Text(0.04046844195629105, -1.0992553412222432, 'March'),\n",
              "  Text(0.6487870364191876, -0.8882991508351271, 'April'),\n",
              "  Text(0.9718026552764132, -0.5153635602152262, 'May'),\n",
              "  Text(1.084433801285736, -0.1843999203605281, 'June')],\n",
              " [Text(0.5950634357258868, 0.0768082512631506, '4.1%'),\n",
              "  Text(0.5407239068206983, 0.260033952768789, '6.1%'),\n",
              "  Text(0.3898827023825255, 0.456060827503195, '7.1%'),\n",
              "  Text(0.0969241567096537, 0.5921196735847598, '10.2%'),\n",
              "  Text(-0.28310114161239835, 0.5290120448702059, '10.6%'),\n",
              "  Text(-0.5466179332936101, 0.24740419358172264, '10.3%'),\n",
              "  Text(-0.5836480486265658, -0.13912208787393088, '10.7%'),\n",
              "  Text(-0.352402121456531, -0.4856055444421288, '11.8%'),\n",
              "  Text(0.022073695612522388, -0.5995938224848599, '9.3%'),\n",
              "  Text(0.35388383804682955, -0.4845268095464329, '9.6%'),\n",
              "  Text(0.5300741756053162, -0.28110739648103245, '4.8%'),\n",
              "  Text(0.5915093461558559, -0.10058177474210622, '5.4%')])"
            ]
          },
          "metadata": {},
          "execution_count": 89
        },
        {
          "output_type": "display_data",
          "data": {
            "text/plain": [
              "<Figure size 432x288 with 1 Axes>"
            ],
            "image/png": "[encoded data removed]"
          },
          "metadata": {}
        }
      ],
      "source": [
        "plt.title(\"Hotel Cancel in Each Month of 2016\")\n",
        "plt.pie(total_can,autopct='%2.1f%%',labels=['July', 'August', 'September', 'October', 'November', 'December',\n",
        "       'January', 'February', 'March', 'April', 'May', 'June'])\n",
        "\n"
      ]
    },
    {
      "cell_type": "code",
      "execution_count": 90,
      "metadata": {
        "colab": {
          "base_uri": "https://localhost:8080/",
          "height": 312
        },
        "id": "wmCmrl_N0Blc",
        "outputId": "2d67c315-0a8a-440b-d24f-932f99b96fb7"
      },
      "outputs": [
        {
          "output_type": "execute_result",
          "data": {
            "text/plain": [
              "[<matplotlib.lines.Line2D at 0x7fd1dfddd110>]"
            ]
          },
          "metadata": {},
          "execution_count": 90
        },
        {
          "output_type": "display_data",
          "data": {
            "text/plain": [
              "<Figure size 432x288 with 1 Axes>"
            ],
            "image/png": "[encoded data removed]"
          },
          "metadata": {
            "needs_background": "light"
          }
        }
      ],
      "source": [
        "plt.title(\"Hotel Canceled in 2016\")\n",
        "plt.grid()\n",
        "plt.xlabel(\"No of Cancelation\")\n",
        "plt.ylabel(\"Month\")\n",
        "plt.rcParams['figure.figsize']=(4,4)\n",
        "ar_mon=np.array(['July', 'August', 'September', 'October', 'November', 'December',\n",
        "       'January', 'February', 'March', 'April', 'May', 'June'])\n",
        "plt.plot(ar_mon,month_values)"
      ]
    },
    {
      "cell_type": "markdown",
      "source": [
        "<h1>Ratio of children, babies and adults in Hotel Booking</h1>"
      ],
      "metadata": {
        "id": "N-woz1A1W3Qc"
      }
    },
    {
      "cell_type": "code",
      "execution_count": 91,
      "metadata": {
        "id": "SLz5A82fKnsR"
      },
      "outputs": [],
      "source": [
        "children=df['children'].count()\n",
        "babies=df['babies'].count()\n",
        "adults=df['adults'].count()\n"
      ]
    },
    {
      "cell_type": "code",
      "execution_count": 92,
      "metadata": {
        "colab": {
          "base_uri": "https://localhost:8080/"
        },
        "id": "CGpiILykLgDX",
        "outputId": "b1480d28-764c-4d2f-e80a-88cc3b693e23"
      },
      "outputs": [
        {
          "output_type": "stream",
          "name": "stdout",
          "text": [
            "[119390 119390 119386]\n"
          ]
        }
      ],
      "source": [
        "arr_of_abc=np.array([adults,babies,children])\n",
        "xname=np.array(['Adults','Babies','Children'])\n",
        "print(arr_of_abc)"
      ]
    },
    {
      "cell_type": "code",
      "execution_count": 93,
      "metadata": {
        "colab": {
          "base_uri": "https://localhost:8080/",
          "height": 298
        },
        "id": "Rn5Sck4fTBDB",
        "outputId": "03fabea4-ba75-4fce-c6b3-9231e6022002"
      },
      "outputs": [
        {
          "output_type": "execute_result",
          "data": {
            "text/plain": [
              "<BarContainer object of 3 artists>"
            ]
          },
          "metadata": {},
          "execution_count": 93
        },
        {
          "output_type": "display_data",
          "data": {
            "text/plain": [
              "<Figure size 288x288 with 1 Axes>"
            ],
            "image/png": "[encoded data removed]"
          },
          "metadata": {
            "needs_background": "light"
          }
        }
      ],
      "source": [
        "plt.title(\"Ratio of Adults , Babies , Children\")\n",
        "plt.grid(color=\"red\")\n",
        "plt.bar(xname,arr_of_abc)"
      ]
    },
    {
      "cell_type": "markdown",
      "source": [
        "<h1>Guest Arrival in each year</h1>"
      ],
      "metadata": {
        "id": "3HrwLzHfWt8Z"
      }
    },
    {
      "cell_type": "code",
      "execution_count": 94,
      "metadata": {
        "colab": {
          "base_uri": "https://localhost:8080/"
        },
        "id": "Ycnqh9YgVpQZ",
        "outputId": "a164a808-3ed0-4df9-c589-5de20e95343b"
      },
      "outputs": [
        {
          "output_type": "execute_result",
          "data": {
            "text/plain": [
              "array([2015, 2016, 2017])"
            ]
          },
          "metadata": {},
          "execution_count": 94
        }
      ],
      "source": [
        "df.arrival_date_year.unique()\n"
      ]
    },
    {
      "cell_type": "code",
      "execution_count": 95,
      "metadata": {
        "colab": {
          "base_uri": "https://localhost:8080/"
        },
        "id": "zqFyqyIKWGyh",
        "outputId": "67a83ae1-7de5-4bda-a97a-f140f1037d5b"
      },
      "outputs": [
        {
          "output_type": "execute_result",
          "data": {
            "text/plain": [
              "[21996, 56707, 40687]"
            ]
          },
          "metadata": {},
          "execution_count": 95
        }
      ],
      "source": [
        "year=[]\n",
        "for i in df.arrival_date_year.unique():\n",
        "  k=df.loc[df['arrival_date_year']==i].arrival_date_year.count()\n",
        "  year.append(k)\n",
        "year\n",
        "\n"
      ]
    },
    {
      "cell_type": "code",
      "execution_count": 96,
      "metadata": {
        "id": "4ZeTizREXbxx"
      },
      "outputs": [],
      "source": [
        "x=np.array(['2015','2016','2017'])\n",
        "arr_of_year=np.array(year)"
      ]
    },
    {
      "cell_type": "code",
      "execution_count": 97,
      "metadata": {
        "id": "0ic2tNtdYNdG",
        "colab": {
          "base_uri": "https://localhost:8080/",
          "height": 282
        },
        "outputId": "b757b21c-91a4-4a08-8eff-f620bf978c23"
      },
      "outputs": [
        {
          "output_type": "execute_result",
          "data": {
            "text/plain": [
              "<BarContainer object of 3 artists>"
            ]
          },
          "metadata": {},
          "execution_count": 97
        },
        {
          "output_type": "display_data",
          "data": {
            "text/plain": [
              "<Figure size 288x288 with 1 Axes>"
            ],
            "image/png": "[encoded data removed]"
          },
          "metadata": {
            "needs_background": "light"
          }
        }
      ],
      "source": [
        "plt.bar(x,arr_of_year)"
      ]
    },
    {
      "cell_type": "markdown",
      "source": [
        "<H1>Repeated Guests</H1>"
      ],
      "metadata": {
        "id": "MAwWJIZSWgJk"
      }
    },
    {
      "cell_type": "code",
      "execution_count": 98,
      "metadata": {
        "id": "hueYfv5fr020",
        "colab": {
          "base_uri": "https://localhost:8080/",
          "height": 313
        },
        "outputId": "40f0d7f4-0c4c-4f2b-e2ba-484128035df5"
      },
      "outputs": [
        {
          "output_type": "execute_result",
          "data": {
            "text/plain": [
              "Text(0.5, 1.0, 'Yearly Bookings')"
            ]
          },
          "metadata": {},
          "execution_count": 98
        },
        {
          "output_type": "display_data",
          "data": {
            "text/plain": [
              "<Figure size 288x288 with 1 Axes>"
            ],
            "image/png": "[encoded data removed]"
          },
          "metadata": {
            "needs_background": "light"
          }
        }
      ],
      "source": [
        "import seaborn as sns\n",
        "\n",
        "sns.countplot(x= 'is_repeated_guest', data= df, hue= 'hotel',palette='rocket').set_title ('Yearly Bookings')"
      ]
    },
    {
      "cell_type": "code",
      "execution_count": 99,
      "metadata": {
        "id": "YeHMLStisuwm"
      },
      "outputs": [],
      "source": [
        "did_re=df.loc[(df['is_repeated_guest']==0)].is_repeated_guest.count()\n",
        "no_re=df.loc[df['is_repeated_guest']==1].is_repeated_guest.count()"
      ]
    },
    {
      "cell_type": "code",
      "execution_count": 100,
      "metadata": {
        "id": "iCNFGyemtejK"
      },
      "outputs": [],
      "source": [
        "total_re=np.array([did_re,no_re])"
      ]
    },
    {
      "cell_type": "code",
      "execution_count": 101,
      "metadata": {
        "id": "O_W4jTHOuukh",
        "colab": {
          "base_uri": "https://localhost:8080/",
          "height": 368
        },
        "outputId": "2dac7880-fc51-42d6-df1b-78dacff77664"
      },
      "outputs": [
        {
          "output_type": "execute_result",
          "data": {
            "text/plain": [
              "([<matplotlib.patches.Wedge at 0x7fd1dfc3a510>,\n",
              "  <matplotlib.patches.Wedge at 0x7fd1dfc3ab90>],\n",
              " [Text(-1.09447652566627, 0.11009602520295811, 'Not Repeated'),\n",
              "  Text(1.0944765295317447, -0.11009598677585064, 'Repeated')],\n",
              " [Text(-0.5969871958179654, 0.060052377383431686, '96.8%'),\n",
              "  Text(0.5969871979264061, -0.060052356423191254, '3.2%')])"
            ]
          },
          "metadata": {},
          "execution_count": 101
        },
        {
          "output_type": "display_data",
          "data": {
            "text/plain": [
              "<Figure size 288x288 with 1 Axes>"
            ],
            "image/png": "[encoded data removed]"
          },
          "metadata": {}
        }
      ],
      "source": [
        "plt.title(\"Guest Repeated Ratio\")\n",
        "plt.pie(total_re,labels=['Not Repeated','Repeated'],colors=['skyblue','yellow'],autopct='%2.1f%%')"
      ]
    },
    {
      "cell_type": "markdown",
      "source": [
        "<h1> Highest Booking Year</h1>"
      ],
      "metadata": {
        "id": "GiXLroOmWWeG"
      }
    },
    {
      "cell_type": "code",
      "execution_count": 102,
      "metadata": {
        "id": "1wROriTOvVdh"
      },
      "outputs": [],
      "source": [
        "year=[2015,2016,2017]\n",
        "year_co=[]\n",
        "for i in year:\n",
        "  y=df[df['arrival_date_year']==i].arrival_date_year.count()\n",
        "  year_co.append(y)\n",
        "\n"
      ]
    },
    {
      "cell_type": "code",
      "execution_count": 103,
      "metadata": {
        "id": "P_zzYcxdzaRC",
        "colab": {
          "base_uri": "https://localhost:8080/"
        },
        "outputId": "ae91761e-86ef-4225-d980-5002ff20f58a"
      },
      "outputs": [
        {
          "output_type": "execute_result",
          "data": {
            "text/plain": [
              "array([21996, 56707, 40687])"
            ]
          },
          "metadata": {},
          "execution_count": 103
        }
      ],
      "source": [
        "np.array(year_co)"
      ]
    },
    {
      "cell_type": "code",
      "execution_count": 104,
      "metadata": {
        "id": "LwiQEMWgzMgj",
        "colab": {
          "base_uri": "https://localhost:8080/",
          "height": 420
        },
        "outputId": "0333fdb1-18cf-40aa-c8de-d9e8320308c4"
      },
      "outputs": [
        {
          "output_type": "execute_result",
          "data": {
            "text/plain": [
              "([<matplotlib.patches.Wedge at 0x7fd1dfc048d0>,\n",
              "  <matplotlib.patches.Wedge at 0x7fd1dfc0c090>,\n",
              "  <matplotlib.patches.Wedge at 0x7fd1dfc0c0d0>],\n",
              " [Text(0.9208339514746371, 0.6017182345679795, '2015'),\n",
              "  Text(-0.9696175067011981, 0.5194630792448607, '2016'),\n",
              "  Text(0.527533057139542, -0.965250679163195, '2017')],\n",
              " [Text(0.5022730644407111, 0.32820994612798876, '18.4%'),\n",
              "  Text(-0.5288822763824716, 0.28334349776992396, '47.5%'),\n",
              "  Text(0.2877453038942956, -0.5265003704526517, '34.1%')])"
            ]
          },
          "metadata": {},
          "execution_count": 104
        },
        {
          "output_type": "display_data",
          "data": {
            "text/plain": [
              "<Figure size 288x288 with 1 Axes>"
            ],
            "image/png": "[encoded data removed]"
          },
          "metadata": {}
        }
      ],
      "source": [
        "plt.title(\"Bookings\")\n",
        "plt.pie(year_co,autopct='%2.1f%%',labels=['2015','2016',2017],colors=['Violet','skyblue','pink'])\n"
      ]
    },
    {
      "cell_type": "code",
      "execution_count": 105,
      "metadata": {
        "id": "0Flpcb70zmRo",
        "colab": {
          "base_uri": "https://localhost:8080/",
          "height": 312
        },
        "outputId": "1c70eaea-0b81-4cc3-cc3d-dee7cfca3215"
      },
      "outputs": [
        {
          "output_type": "execute_result",
          "data": {
            "text/plain": [
              "<BarContainer object of 3 artists>"
            ]
          },
          "metadata": {},
          "execution_count": 105
        },
        {
          "output_type": "display_data",
          "data": {
            "text/plain": [
              "<Figure size 288x288 with 1 Axes>"
            ],
            "image/png": "[encoded data removed]"
          },
          "metadata": {
            "needs_background": "light"
          }
        }
      ],
      "source": [
        "year=[2015,2016,2017]\n",
        "plt.title(\"Booking\")\n",
        "plt.xlabel(\"Year\")\n",
        "plt.ylabel(\"No of Booking\")\n",
        "\n",
        "plt.bar(year,year_co,color=['Violet','skyblue','pink'])"
      ]
    },
    {
      "cell_type": "code",
      "execution_count": 106,
      "metadata": {
        "id": "umtWzeld0dyZ",
        "colab": {
          "base_uri": "https://localhost:8080/"
        },
        "outputId": "14b840a9-ba0c-4433-a34d-a6bc6b6286aa"
      },
      "outputs": [
        {
          "output_type": "execute_result",
          "data": {
            "text/plain": [
              "Index(['hotel', 'is_canceled', 'lead_time', 'arrival_date_year',\n",
              "       'arrival_date_month', 'arrival_date_week_number',\n",
              "       'arrival_date_day_of_month', 'stays_in_weekend_nights',\n",
              "       'stays_in_week_nights', 'adults', 'children', 'babies', 'meal',\n",
              "       'country', 'market_segment', 'distribution_channel',\n",
              "       'is_repeated_guest', 'previous_cancellations',\n",
              "       'previous_bookings_not_canceled', 'reserved_room_type',\n",
              "       'assigned_room_type', 'booking_changes', 'deposit_type', 'agent',\n",
              "       'company', 'days_in_waiting_list', 'customer_type', 'adr',\n",
              "       'required_car_parking_spaces', 'total_of_special_requests',\n",
              "       'reservation_status', 'reservation_status_date'],\n",
              "      dtype='object')"
            ]
          },
          "metadata": {},
          "execution_count": 106
        }
      ],
      "source": [
        "df.columns"
      ]
    },
    {
      "cell_type": "code",
      "execution_count": 106,
      "metadata": {
        "id": "AqDTdrsbeO7s"
      },
      "outputs": [],
      "source": []
    }
  ],
  "metadata": {
    "colab": {
      "collapsed_sections": [],
      "provenance": [],
      "authorship_tag": "ABX9TyOFngGJULh4JvlfTt453KJz",
      "include_colab_link": true
    },
    "kernelspec": {
      "display_name": "Python 3",
      "name": "python3"
    },
    "language_info": {
      "name": "python"
    }
  },
  "nbformat": 4,
  "nbformat_minor": 0
}